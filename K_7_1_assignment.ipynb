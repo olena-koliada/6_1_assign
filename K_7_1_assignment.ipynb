{
  "cells": [
    {
      "cell_type": "markdown",
      "metadata": {
        "id": "view-in-github",
        "colab_type": "text"
      },
      "source": [
        "<a href=\"https://colab.research.google.com/github/olena-koliada/6_1_assign/blob/master/K_7_1_assignment.ipynb\" target=\"_parent\"><img src=\"https://colab.research.google.com/assets/colab-badge.svg\" alt=\"Open In Colab\"/></a>"
      ]
    },
    {
      "cell_type": "markdown",
      "metadata": {
        "id": "K-xXkt9Ztf7J"
      },
      "source": [
        "# Assignment 7.1\n",
        "\n",
        "> Replace all TODOs with your code.\n",
        ">\n",
        "> Do not change any other code and do not add/remove cells!"
      ]
    },
    {
      "cell_type": "code",
      "execution_count": 85,
      "metadata": {
        "id": "sGdc6BbbALg9"
      },
      "outputs": [],
      "source": [
        "# Do not edit this cell\n",
        "\n",
        "from typing import List, Dict\n",
        "import requests\n",
        "import json"
      ]
    },
    {
      "cell_type": "markdown",
      "metadata": {
        "id": "cfhcjaX0vXXa"
      },
      "source": [
        "## Clients"
      ]
    },
    {
      "cell_type": "markdown",
      "metadata": {
        "id": "Vlz14hyr6wV6"
      },
      "source": [
        "### Task 1\n",
        "\n",
        "Write a function that takes a GitHub repository name as input and uses the [GitHub Repository API](https://docs.github.com/en/rest/repos) to retrieve and return information about the specified repository, including:\n",
        "\n",
        "* Repository Name\n",
        "* Owner\n",
        "* Description\n",
        "* License (if available)\n",
        "* Creation Date\n",
        "\n",
        "Use the `requests` module for this task."
      ]
    },
    {
      "cell_type": "code",
      "execution_count": 86,
      "metadata": {
        "id": "vDYn-dRb7xIX",
        "colab": {
          "base_uri": "https://localhost:8080/"
        },
        "outputId": "880a4217-152c-48d0-86f9-a4a88fb721bf"
      },
      "outputs": [
        {
          "output_type": "stream",
          "name": "stdout",
          "text": [
            "{'repository_name': 'Hello-World', 'repository_owner': 'octocat', 'repository_description': 'My first repository on GitHub!', 'repository_license': None, 'repository_creation_date': '2011-01-26T19:01:12Z'}\n"
          ]
        }
      ],
      "source": [
        "def get_repository_info(repo_name: str) -> Dict[str, str]:\n",
        "    # respon = requests.get(f'https://api.github.com/repos/{repo_name}')\n",
        "    respon = requests.get('https://api.github.com/repos/octocat/Hello-World')\n",
        "    data = json.loads(respon.content) # To parse json data and store it in a Python dictionary\n",
        "    return{\n",
        "          'repository_name': data['name'],\n",
        "          'repository_owner': data['owner']['login'],\n",
        "          'repository_description': data['description'],\n",
        "          'repository_license': data['license'] if data['license'] else None,\n",
        "          'repository_creation_date': data['created_at'],\n",
        "    }\n",
        "\n",
        "info = get_repository_info('octocat/Hello-World')\n",
        "\n",
        "print(info)"
      ]
    },
    {
      "cell_type": "markdown",
      "metadata": {
        "id": "0TC34gv79VEo"
      },
      "source": [
        "### Task 2\n",
        "\n",
        "Write a function that takes a GitHub repository name and uses the [GitHub Commits API](https://docs.github.com/en/rest/commits/commits) to retrieve and return information about the five most recent commits in a selected GitHub repository, including:\n",
        "* Commit Message\n",
        "* Author\n",
        "* Date\n",
        "* Link to the commit on GitHub\n",
        "\n",
        "Use the `requests` module for this task."
      ]
    },
    {
      "cell_type": "code",
      "execution_count": 87,
      "metadata": {
        "id": "Kf2284dT-atu",
        "colab": {
          "base_uri": "https://localhost:8080/"
        },
        "outputId": "b2639c24-7f83-4922-ee39-eadeafb08dfd"
      },
      "outputs": [
        {
          "output_type": "stream",
          "name": "stdout",
          "text": [
            "[{'сommit_message': 'Merge pull request #6 from Spaceghost/patch-1\\n\\nNew line at end of file.', 'commit_author': 'The Octocat', 'date_of_commit': '2012-03-06T23:06:50Z', 'link_to_commit_GitHub': '7fd1a60b01f91b314f59955a4e4d4e80d8edf11d'}, {'сommit_message': 'New line at end of file. --Signed off by Spaceghost', 'commit_author': 'Johnneylee Jack Rollins', 'date_of_commit': '2011-09-14T04:42:41Z', 'link_to_commit_GitHub': '762941318ee16e59dabbacb1b4049eec22f0d303'}, {'сommit_message': 'first commit', 'commit_author': 'cameronmcefee', 'date_of_commit': '2011-01-26T19:06:08Z', 'link_to_commit_GitHub': '553c2077f0edc3d5dc5d17262f6aa498e69d6f8e'}]\n"
          ]
        }
      ],
      "source": [
        "def get_recent_commits(repo_name: str) -> List[Dict[str, str]]:\n",
        "    # respon = requests.get(f'https://api.github.com/repos/{repo_name}/commits?per_page=5')\n",
        "    respon_commit = requests.get('https://api.github.com/repos/octocat/Hello-World/commits?per_page=5') #to get 5 last commits\n",
        "    data_5_commits = []  # creating an empty list\n",
        "    for commit in respon_commit.json(): # iterating over each element in the json object returned by the API\n",
        "      data_5_commits.append({\n",
        "            'сommit_message': commit['commit']['message'],\n",
        "            'commit_author': commit['commit']['author']['name'],\n",
        "            'date_of_commit': commit['commit']['committer']['date'],\n",
        "            'link_to_commit_GitHub': commit['sha'],\n",
        "      })\n",
        "    return data_5_commits\n",
        "info_commits = get_recent_commits(\"octocat/Hello-World\")\n",
        "print(info_commits)"
      ]
    }
  ],
  "metadata": {
    "colab": {
      "provenance": [],
      "include_colab_link": true
    },
    "kernelspec": {
      "display_name": "Python 3",
      "name": "python3"
    },
    "language_info": {
      "name": "python"
    }
  },
  "nbformat": 4,
  "nbformat_minor": 0
}